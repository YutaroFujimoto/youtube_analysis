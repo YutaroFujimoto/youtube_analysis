{
 "cells": [
  {
   "cell_type": "code",
   "execution_count": 119,
   "id": "11fa0f22-e31d-41e7-bf69-2dee2995faa2",
   "metadata": {},
   "outputs": [],
   "source": [
    "# channel id -> UC1H5dv45x2aFKk-6JZLSWIQ"
   ]
  },
  {
   "cell_type": "code",
   "execution_count": 120,
   "id": "76ab0865-5158-4395-9b2c-2f4d1d693fe8",
   "metadata": {},
   "outputs": [],
   "source": [
    "import googleapiclient.discovery\n",
    "import json\n",
    "import pandas as pd"
   ]
  },
  {
   "cell_type": "code",
   "execution_count": 121,
   "id": "e0abe335-476f-4604-a1cb-290256b6bb19",
   "metadata": {},
   "outputs": [],
   "source": [
    "api_service_name = \"youtube\"\n",
    "api_version = \"v3\"\n",
    "developerKey = \"\"\"API_KEY\"\"\"\n",
    "CHANNEL_ID = \"UC1H5dv45x2aFKk-6JZLSWIQ\""
   ]
  },
  {
   "cell_type": "code",
   "execution_count": 122,
   "id": "46342b65-bee4-476a-afb0-ba6f29d78700",
   "metadata": {},
   "outputs": [],
   "source": [
    "def get_authenticated_service():\n",
    "    return googleapiclient.discovery.build(\n",
    "        api_service_name, api_version, developerKey=developerKey)"
   ]
  },
  {
   "cell_type": "code",
   "execution_count": 123,
   "id": "3fbd5782-a7cd-4661-93d2-0f3f5061b13e",
   "metadata": {},
   "outputs": [],
   "source": [
    "def get_uploads_playlist_id(channelId):\n",
    "    request = youtube.channels().list(\n",
    "        part=\"contentDetails\",\n",
    "        id=channelId,\n",
    "        fields=\"items/contentDetails/relatedPlaylists/uploads\"\n",
    "    )\n",
    "    response = request.execute()\n",
    "    return response[\"items\"][0][\"contentDetails\"][\"relatedPlaylists\"][\"uploads\"]"
   ]
  },
  {
   "cell_type": "code",
   "execution_count": 124,
   "id": "415d8f6d-8eb6-4483-a886-595a2c3fcecf",
   "metadata": {},
   "outputs": [],
   "source": [
    "def get_video_id_in_playlist(playlistId):\n",
    "    video_id_list = []\n",
    "\n",
    "    request = youtube.playlistItems().list(\n",
    "        part=\"snippet\",\n",
    "        maxResults=50,\n",
    "        playlistId=playlistId,\n",
    "        fields=\"nextPageToken,items/snippet/resourceId/videoId\"\n",
    "    )\n",
    "\n",
    "    while request:\n",
    "        response = request.execute()\n",
    "        video_id_list.extend(list(map(lambda item: item[\"snippet\"][\"resourceId\"][\"videoId\"], response[\"items\"])))\n",
    "        request = youtube.playlistItems().list_next(request, response)\n",
    "\n",
    "    return video_id_list"
   ]
  },
  {
   "cell_type": "code",
   "execution_count": 125,
   "id": "b3a3c71e-843f-43b9-aa55-aae75eef063b",
   "metadata": {},
   "outputs": [],
   "source": [
    "def chunks(lst, n):\n",
    "    \"\"\"Yield successive n-sized chunks from lst.\"\"\"\n",
    "    for i in range(0, len(lst), n):\n",
    "        yield lst[i:i + n]"
   ]
  },
  {
   "cell_type": "code",
   "execution_count": 126,
   "id": "40af2f4f-0fa0-4177-ac34-3c7855ed0af9",
   "metadata": {},
   "outputs": [],
   "source": [
    "def get_video_items(video_id_list):\n",
    "    video_items = []\n",
    "\n",
    "    chunk_list = list(chunks(video_id_list, 50))  # max 50 id per request.\n",
    "    for chunk in chunk_list:\n",
    "        video_ids = \",\".join(chunk)\n",
    "        request = youtube.videos().list(\n",
    "            part=\"snippet,statistics\",\n",
    "            id=video_ids,\n",
    "            fields=\"items(id,snippet(title,description,publishedAt,thumbnails),statistics(viewCount,likeCount))\"\n",
    "        )\n",
    "        response = request.execute()\n",
    "        video_items.extend(response[\"items\"])\n",
    "\n",
    "    return video_items"
   ]
  },
  {
   "cell_type": "code",
   "execution_count": 127,
   "id": "80980504-0f4b-4a6c-b8a2-55d24a7974ca",
   "metadata": {},
   "outputs": [],
   "source": [
    "def get_image_url(video_item):\n",
    "    qualities = ['standard', 'high', 'medium', 'default']\n",
    "    for quality in qualities:\n",
    "        if quality in video_item['snippet']['thumbnails'].keys():\n",
    "            return video_item['snippet']['thumbnails'][quality]['url']\n",
    "    return ''"
   ]
  },
  {
   "cell_type": "code",
   "execution_count": 128,
   "id": "f25d5bcd-ab77-415e-a4db-cbc7086a2284",
   "metadata": {},
   "outputs": [],
   "source": [
    "def convertVideoItems(video_items):\n",
    "    return list(map(lambda item: {\n",
    "        'id': item[\"id\"],\n",
    "        'title': item[\"snippet\"][\"title\"],\n",
    "        'publishedAt': item[\"snippet\"][\"publishedAt\"],\n",
    "        'views': int(item[\"statistics\"][\"viewCount\"]) if 'viewCount' in item[\"statistics\"].keys() else 0,\n",
    "        'likes': int(item[\"statistics\"][\"likeCount\"]) if 'likeCount' in item[\"statistics\"].keys() else 0,\n",
    "        'image': get_image_url(item),\n",
    "    }, video_items))"
   ]
  },
  {
   "cell_type": "code",
   "execution_count": 129,
   "id": "5be011b3-daa0-49dd-83fa-88f260401cb2",
   "metadata": {},
   "outputs": [],
   "source": [
    "def main(channelId):\n",
    "    uploads_playlist_id = get_uploads_playlist_id(channelId)\n",
    "    video_id_list = get_video_id_in_playlist(uploads_playlist_id)\n",
    "    video_items = get_video_items(video_id_list)\n",
    "    return json.dumps(convertVideoItems(video_items), sort_keys=True, indent=4, ensure_ascii=False)"
   ]
  },
  {
   "cell_type": "code",
   "execution_count": 130,
   "id": "4798339d-ea0b-4edf-bb83-0ec4955a8a5a",
   "metadata": {},
   "outputs": [],
   "source": [
    "youtube = get_authenticated_service()\n",
    "result = main(CHANNEL_ID)"
   ]
  },
  {
   "cell_type": "code",
   "execution_count": 131,
   "id": "53f4194c-c970-496e-8113-04a38b60dceb",
   "metadata": {},
   "outputs": [],
   "source": [
    "#print(result)"
   ]
  },
  {
   "cell_type": "code",
   "execution_count": 132,
   "id": "ddd3b155-4485-480c-a5ee-01a748a2ccbd",
   "metadata": {},
   "outputs": [
    {
     "name": "stdout",
     "output_type": "stream",
     "text": [
      "JRA払い戻し確定音弾いてみた\n",
      "本日のきさらぎ賞&東京新聞杯について２\n",
      "生涯収支マイナス２億円君のきさらぎ賞&東京新聞杯予想\n"
     ]
    }
   ],
   "source": [
    "videos = json.loads(result)\n",
    "#print(videos)\n",
    "for i in range(3):\n",
    "    print(videos[i][\"title\"])"
   ]
  },
  {
   "cell_type": "code",
   "execution_count": 133,
   "id": "722b6864-af2d-4243-bafb-2d467e23b0f4",
   "metadata": {},
   "outputs": [
    {
     "data": {
      "text/html": [
       "<div>\n",
       "<style scoped>\n",
       "    .dataframe tbody tr th:only-of-type {\n",
       "        vertical-align: middle;\n",
       "    }\n",
       "\n",
       "    .dataframe tbody tr th {\n",
       "        vertical-align: top;\n",
       "    }\n",
       "\n",
       "    .dataframe thead th {\n",
       "        text-align: right;\n",
       "    }\n",
       "</style>\n",
       "<table border=\"1\" class=\"dataframe\">\n",
       "  <thead>\n",
       "    <tr style=\"text-align: right;\">\n",
       "      <th></th>\n",
       "      <th>id</th>\n",
       "      <th>image</th>\n",
       "      <th>likes</th>\n",
       "      <th>publishedAt</th>\n",
       "      <th>title</th>\n",
       "      <th>views</th>\n",
       "    </tr>\n",
       "  </thead>\n",
       "  <tbody>\n",
       "    <tr>\n",
       "      <th>0</th>\n",
       "      <td>zzQTpLWdBbs</td>\n",
       "      <td>https://i.ytimg.com/vi/zzQTpLWdBbs/sddefault.jpg</td>\n",
       "      <td>4850</td>\n",
       "      <td>2023-02-06T10:00:37Z</td>\n",
       "      <td>JRA払い戻し確定音弾いてみた</td>\n",
       "      <td>220273</td>\n",
       "    </tr>\n",
       "    <tr>\n",
       "      <th>1</th>\n",
       "      <td>P6LFnF98uqU</td>\n",
       "      <td>https://i.ytimg.com/vi/P6LFnF98uqU/sddefault.jpg</td>\n",
       "      <td>4536</td>\n",
       "      <td>2023-02-05T07:53:18Z</td>\n",
       "      <td>本日のきさらぎ賞&amp;東京新聞杯について２</td>\n",
       "      <td>344073</td>\n",
       "    </tr>\n",
       "    <tr>\n",
       "      <th>2</th>\n",
       "      <td>7LVHTh0wyIM</td>\n",
       "      <td>https://i.ytimg.com/vi/7LVHTh0wyIM/sddefault.jpg</td>\n",
       "      <td>2950</td>\n",
       "      <td>2023-02-04T10:00:04Z</td>\n",
       "      <td>生涯収支マイナス２億円君のきさらぎ賞&amp;東京新聞杯予想</td>\n",
       "      <td>334685</td>\n",
       "    </tr>\n",
       "    <tr>\n",
       "      <th>3</th>\n",
       "      <td>nF5VnZWH4oo</td>\n",
       "      <td>https://i.ytimg.com/vi/nF5VnZWH4oo/sddefault.jpg</td>\n",
       "      <td>2139</td>\n",
       "      <td>2023-02-03T10:00:26Z</td>\n",
       "      <td>デカピン(ソシー)麻雀緊張感エグすぎて手震える#2-3</td>\n",
       "      <td>267321</td>\n",
       "    </tr>\n",
       "    <tr>\n",
       "      <th>4</th>\n",
       "      <td>00K65WUu__E</td>\n",
       "      <td>https://i.ytimg.com/vi/00K65WUu__E/sddefault.jpg</td>\n",
       "      <td>3183</td>\n",
       "      <td>2023-02-02T10:00:00Z</td>\n",
       "      <td>「粗品を笑わせろ」からし蓮根編</td>\n",
       "      <td>138775</td>\n",
       "    </tr>\n",
       "  </tbody>\n",
       "</table>\n",
       "</div>"
      ],
      "text/plain": [
       "            id                                             image  likes  \\\n",
       "0  zzQTpLWdBbs  https://i.ytimg.com/vi/zzQTpLWdBbs/sddefault.jpg   4850   \n",
       "1  P6LFnF98uqU  https://i.ytimg.com/vi/P6LFnF98uqU/sddefault.jpg   4536   \n",
       "2  7LVHTh0wyIM  https://i.ytimg.com/vi/7LVHTh0wyIM/sddefault.jpg   2950   \n",
       "3  nF5VnZWH4oo  https://i.ytimg.com/vi/nF5VnZWH4oo/sddefault.jpg   2139   \n",
       "4  00K65WUu__E  https://i.ytimg.com/vi/00K65WUu__E/sddefault.jpg   3183   \n",
       "\n",
       "            publishedAt                        title   views  \n",
       "0  2023-02-06T10:00:37Z              JRA払い戻し確定音弾いてみた  220273  \n",
       "1  2023-02-05T07:53:18Z          本日のきさらぎ賞&東京新聞杯について２  344073  \n",
       "2  2023-02-04T10:00:04Z   生涯収支マイナス２億円君のきさらぎ賞&東京新聞杯予想  334685  \n",
       "3  2023-02-03T10:00:26Z  デカピン(ソシー)麻雀緊張感エグすぎて手震える#2-3  267321  \n",
       "4  2023-02-02T10:00:00Z              「粗品を笑わせろ」からし蓮根編  138775  "
      ]
     },
     "metadata": {},
     "output_type": "display_data"
    },
    {
     "name": "stdout",
     "output_type": "stream",
     "text": [
      "<class 'pandas.core.frame.DataFrame'>\n",
      "RangeIndex: 649 entries, 0 to 648\n",
      "Data columns (total 6 columns):\n",
      " #   Column       Non-Null Count  Dtype \n",
      "---  ------       --------------  ----- \n",
      " 0   id           649 non-null    object\n",
      " 1   image        649 non-null    object\n",
      " 2   likes        649 non-null    int64 \n",
      " 3   publishedAt  649 non-null    object\n",
      " 4   title        649 non-null    object\n",
      " 5   views        649 non-null    int64 \n",
      "dtypes: int64(2), object(4)\n",
      "memory usage: 30.5+ KB\n",
      "None\n"
     ]
    }
   ],
   "source": [
    "df = pd.DataFrame(videos)\n",
    "display(df.head())\n",
    "print(df.info())"
   ]
  },
  {
   "cell_type": "code",
   "execution_count": 134,
   "id": "dd6cd0d7-45bc-40e1-bf1f-467019cc7ed8",
   "metadata": {},
   "outputs": [
    {
     "name": "stdout",
     "output_type": "stream",
     "text": [
      "views_mean -> 735272.8243451464\n",
      "like_rate -> 0.017067308877441033\n"
     ]
    }
   ],
   "source": [
    "views_mean = df[\"views\"].mean()\n",
    "print(\"views_mean ->\", views_mean)\n",
    "row_like_rate = df[\"likes\"] / df[\"views\"]\n",
    "all_like_rate = row_like_rate.mean()\n",
    "print(\"like_rate ->\", all_like_rate)"
   ]
  },
  {
   "cell_type": "code",
   "execution_count": 135,
   "id": "8fb0ebc1-e7d5-484f-b116-00dbf32b8cce",
   "metadata": {},
   "outputs": [],
   "source": [
    "result_df = df[df[\"views\"] > views_mean]"
   ]
  },
  {
   "cell_type": "code",
   "execution_count": 136,
   "id": "2c9b9867-30c3-4075-9407-60394e0b8819",
   "metadata": {},
   "outputs": [
    {
     "data": {
      "text/html": [
       "<div>\n",
       "<style scoped>\n",
       "    .dataframe tbody tr th:only-of-type {\n",
       "        vertical-align: middle;\n",
       "    }\n",
       "\n",
       "    .dataframe tbody tr th {\n",
       "        vertical-align: top;\n",
       "    }\n",
       "\n",
       "    .dataframe thead th {\n",
       "        text-align: right;\n",
       "    }\n",
       "</style>\n",
       "<table border=\"1\" class=\"dataframe\">\n",
       "  <thead>\n",
       "    <tr style=\"text-align: right;\">\n",
       "      <th></th>\n",
       "      <th>id</th>\n",
       "      <th>image</th>\n",
       "      <th>likes</th>\n",
       "      <th>publishedAt</th>\n",
       "      <th>title</th>\n",
       "      <th>views</th>\n",
       "    </tr>\n",
       "  </thead>\n",
       "  <tbody>\n",
       "    <tr>\n",
       "      <th>21</th>\n",
       "      <td>pf4Pd5Jb-h8</td>\n",
       "      <td>https://i.ytimg.com/vi/pf4Pd5Jb-h8/sddefault.jpg</td>\n",
       "      <td>63693</td>\n",
       "      <td>2023-01-16T10:03:20Z</td>\n",
       "      <td>【借金替え歌】トウキョウ・シャンディ・ランデヴ【粗品】</td>\n",
       "      <td>1343642</td>\n",
       "    </tr>\n",
       "    <tr>\n",
       "      <th>53</th>\n",
       "      <td>UCfXNT7LOMg</td>\n",
       "      <td>https://i.ytimg.com/vi/UCfXNT7LOMg/sddefault.jpg</td>\n",
       "      <td>16099</td>\n",
       "      <td>2022-12-14T14:42:37Z</td>\n",
       "      <td>粗品髪切った</td>\n",
       "      <td>821227</td>\n",
       "    </tr>\n",
       "    <tr>\n",
       "      <th>55</th>\n",
       "      <td>ha5fTWP6TCc</td>\n",
       "      <td>https://i.ytimg.com/vi/ha5fTWP6TCc/sddefault.jpg</td>\n",
       "      <td>42400</td>\n",
       "      <td>2022-12-12T10:00:30Z</td>\n",
       "      <td>【借金替え歌】神っぽいな【粗品】</td>\n",
       "      <td>985828</td>\n",
       "    </tr>\n",
       "    <tr>\n",
       "      <th>85</th>\n",
       "      <td>cI9owdiN1RQ</td>\n",
       "      <td>https://i.ytimg.com/vi/cI9owdiN1RQ/sddefault.jpg</td>\n",
       "      <td>16452</td>\n",
       "      <td>2022-11-15T10:00:19Z</td>\n",
       "      <td>粗品「フリップネタ１」／単独公演『電池の切れかけた蟹』より(2022.10.26)</td>\n",
       "      <td>889222</td>\n",
       "    </tr>\n",
       "    <tr>\n",
       "      <th>109</th>\n",
       "      <td>E4-4vUk34YM</td>\n",
       "      <td>https://i.ytimg.com/vi/E4-4vUk34YM/sddefault.jpg</td>\n",
       "      <td>30192</td>\n",
       "      <td>2022-10-22T10:00:14Z</td>\n",
       "      <td>生涯収支マイナス２億円君の菊花賞予想</td>\n",
       "      <td>1219946</td>\n",
       "    </tr>\n",
       "    <tr>\n",
       "      <th>...</th>\n",
       "      <td>...</td>\n",
       "      <td>...</td>\n",
       "      <td>...</td>\n",
       "      <td>...</td>\n",
       "      <td>...</td>\n",
       "      <td>...</td>\n",
       "    </tr>\n",
       "    <tr>\n",
       "      <th>639</th>\n",
       "      <td>hTkoxIYQMXs</td>\n",
       "      <td>https://i.ytimg.com/vi/hTkoxIYQMXs/sddefault.jpg</td>\n",
       "      <td>35456</td>\n",
       "      <td>2021-02-01T10:18:22Z</td>\n",
       "      <td>アレクサvs粗品</td>\n",
       "      <td>1285842</td>\n",
       "    </tr>\n",
       "    <tr>\n",
       "      <th>645</th>\n",
       "      <td>UmP8j0D3y1I</td>\n",
       "      <td>https://i.ytimg.com/vi/UmP8j0D3y1I/sddefault.jpg</td>\n",
       "      <td>27714</td>\n",
       "      <td>2020-06-20T11:00:10Z</td>\n",
       "      <td>粗品『最高に頭が悪い曲』feat. 初音ミク</td>\n",
       "      <td>875098</td>\n",
       "    </tr>\n",
       "    <tr>\n",
       "      <th>646</th>\n",
       "      <td>cKNtpQLeny8</td>\n",
       "      <td>https://i.ytimg.com/vi/cKNtpQLeny8/sddefault.jpg</td>\n",
       "      <td>35332</td>\n",
       "      <td>2020-06-07T11:00:11Z</td>\n",
       "      <td>粗品『希う』feat. 初音ミク</td>\n",
       "      <td>871900</td>\n",
       "    </tr>\n",
       "    <tr>\n",
       "      <th>647</th>\n",
       "      <td>j6KGOoxXQQA</td>\n",
       "      <td>https://i.ytimg.com/vi/j6KGOoxXQQA/sddefault.jpg</td>\n",
       "      <td>64522</td>\n",
       "      <td>2020-05-19T11:00:32Z</td>\n",
       "      <td>粗品『ぷっすんきゅう』feat. 初音ミク</td>\n",
       "      <td>1671183</td>\n",
       "    </tr>\n",
       "    <tr>\n",
       "      <th>648</th>\n",
       "      <td>x_yvdRXW82I</td>\n",
       "      <td>https://i.ytimg.com/vi/x_yvdRXW82I/sddefault.jpg</td>\n",
       "      <td>109447</td>\n",
       "      <td>2020-05-03T11:00:22Z</td>\n",
       "      <td>粗品『ビームが撃てたらいいのに』feat. 初音ミク</td>\n",
       "      <td>3125135</td>\n",
       "    </tr>\n",
       "  </tbody>\n",
       "</table>\n",
       "<p>83 rows × 6 columns</p>\n",
       "</div>"
      ],
      "text/plain": [
       "              id                                             image   likes  \\\n",
       "21   pf4Pd5Jb-h8  https://i.ytimg.com/vi/pf4Pd5Jb-h8/sddefault.jpg   63693   \n",
       "53   UCfXNT7LOMg  https://i.ytimg.com/vi/UCfXNT7LOMg/sddefault.jpg   16099   \n",
       "55   ha5fTWP6TCc  https://i.ytimg.com/vi/ha5fTWP6TCc/sddefault.jpg   42400   \n",
       "85   cI9owdiN1RQ  https://i.ytimg.com/vi/cI9owdiN1RQ/sddefault.jpg   16452   \n",
       "109  E4-4vUk34YM  https://i.ytimg.com/vi/E4-4vUk34YM/sddefault.jpg   30192   \n",
       "..           ...                                               ...     ...   \n",
       "639  hTkoxIYQMXs  https://i.ytimg.com/vi/hTkoxIYQMXs/sddefault.jpg   35456   \n",
       "645  UmP8j0D3y1I  https://i.ytimg.com/vi/UmP8j0D3y1I/sddefault.jpg   27714   \n",
       "646  cKNtpQLeny8  https://i.ytimg.com/vi/cKNtpQLeny8/sddefault.jpg   35332   \n",
       "647  j6KGOoxXQQA  https://i.ytimg.com/vi/j6KGOoxXQQA/sddefault.jpg   64522   \n",
       "648  x_yvdRXW82I  https://i.ytimg.com/vi/x_yvdRXW82I/sddefault.jpg  109447   \n",
       "\n",
       "              publishedAt                                      title    views  \n",
       "21   2023-01-16T10:03:20Z                【借金替え歌】トウキョウ・シャンディ・ランデヴ【粗品】  1343642  \n",
       "53   2022-12-14T14:42:37Z                                     粗品髪切った   821227  \n",
       "55   2022-12-12T10:00:30Z                           【借金替え歌】神っぽいな【粗品】   985828  \n",
       "85   2022-11-15T10:00:19Z  粗品「フリップネタ１」／単独公演『電池の切れかけた蟹』より(2022.10.26)   889222  \n",
       "109  2022-10-22T10:00:14Z                         生涯収支マイナス２億円君の菊花賞予想  1219946  \n",
       "..                    ...                                        ...      ...  \n",
       "639  2021-02-01T10:18:22Z                                   アレクサvs粗品  1285842  \n",
       "645  2020-06-20T11:00:10Z                     粗品『最高に頭が悪い曲』feat. 初音ミク   875098  \n",
       "646  2020-06-07T11:00:11Z                           粗品『希う』feat. 初音ミク   871900  \n",
       "647  2020-05-19T11:00:32Z                      粗品『ぷっすんきゅう』feat. 初音ミク  1671183  \n",
       "648  2020-05-03T11:00:22Z                 粗品『ビームが撃てたらいいのに』feat. 初音ミク  3125135  \n",
       "\n",
       "[83 rows x 6 columns]"
      ]
     },
     "metadata": {},
     "output_type": "display_data"
    }
   ],
   "source": [
    "result_df = result_df[result_df[\"likes\"] / result_df[\"views\"] > all_like_rate]\n",
    "display(result_df)"
   ]
  },
  {
   "cell_type": "code",
   "execution_count": 137,
   "id": "5f4853fe-87de-44c4-88bc-4aef0ed6b938",
   "metadata": {},
   "outputs": [],
   "source": [
    "result_df.to_csv(\"soshina.csv\", encoding=\"shift_jis\")"
   ]
  }
 ],
 "metadata": {
  "kernelspec": {
   "display_name": "Python 3 (ipykernel)",
   "language": "python",
   "name": "python3"
  },
  "language_info": {
   "codemirror_mode": {
    "name": "ipython",
    "version": 3
   },
   "file_extension": ".py",
   "mimetype": "text/x-python",
   "name": "python",
   "nbconvert_exporter": "python",
   "pygments_lexer": "ipython3",
   "version": "3.8.12"
  }
 },
 "nbformat": 4,
 "nbformat_minor": 5
}
